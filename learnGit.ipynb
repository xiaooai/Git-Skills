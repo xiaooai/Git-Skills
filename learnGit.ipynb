{
 "cells": [
  {
   "cell_type": "markdown",
   "metadata": {},
   "source": [
    "# Git 用法说明"
   ]
  },
  {
   "cell_type": "markdown",
   "metadata": {},
   "source": [
    "\n",
    "初始化Git"
   ]
  },
  {
   "cell_type": "code",
   "execution_count": null,
   "metadata": {
    "vscode": {
     "languageId": "plaintext"
    }
   },
   "outputs": [],
   "source": [
    "# 初始化Git\n",
    "git init\n",
    "\n",
    "# 添加新文件\n",
    "git add filename\n",
    "git add .\n",
    "\n",
    "# 提交版本\n",
    "git commit -m \"Add files\"\n",
    "git commit -a -m \"Change some files\"\n",
    "# 克隆版本\n",
    "git clone ssh://xxx.git\n",
    "\n",
    "# 推送到远端\n",
    "git push ssh://xxx.git\n",
    "\n",
    "# 取回更新\n",
    "git pull"
   ]
  },
  {
   "cell_type": "code",
   "execution_count": null,
   "metadata": {
    "vscode": {
     "languageId": "plaintext"
    }
   },
   "outputs": [],
   "source": []
  },
  {
   "cell_type": "markdown",
   "metadata": {},
   "source": []
  }
 ],
 "metadata": {
  "language_info": {
   "name": "python"
  }
 },
 "nbformat": 4,
 "nbformat_minor": 2
}
